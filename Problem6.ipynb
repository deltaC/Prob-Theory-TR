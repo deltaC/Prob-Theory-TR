{
 "cells": [
  {
   "cell_type": "markdown",
   "metadata": {},
   "source": [
    "# Задача 6"
   ]
  },
  {
   "cell_type": "markdown",
   "metadata": {},
   "source": [
    "**Подключаем необходимые библиотеки. Seaborn -- аналог matplotlib, но строит более красивые гистограммы**"
   ]
  },
  {
   "cell_type": "code",
   "execution_count": 1,
   "metadata": {},
   "outputs": [],
   "source": [
    "import numpy as np\n",
    "import scipy.stats\n",
    "import seaborn as sns"
   ]
  },
  {
   "cell_type": "markdown",
   "metadata": {},
   "source": [
    "**Далее вводим наши данные**"
   ]
  },
  {
   "cell_type": "code",
   "execution_count": 2,
   "metadata": {},
   "outputs": [],
   "source": [
    "alpha = 0.01"
   ]
  },
  {
   "cell_type": "code",
   "execution_count": 3,
   "metadata": {},
   "outputs": [],
   "source": [
    "n_i = np.array([12, 25, 77, 176, 192, 178, 83, 24, 13])\n",
    "data = np.concatenate((np.array([1] * 12),\n",
    "                       np.array([3] * 25),\n",
    "                       np.array([5] * 77),\n",
    "                       np.array([7] * 176),\n",
    "                       np.array([9] * 192),\n",
    "                       np.array([11] * 178),\n",
    "                       np.array([13] * 83),\n",
    "                       np.array([15] * 24),\n",
    "                       np.array([17] * 13)))\n",
    "n = len(data)"
   ]
  },
  {
   "cell_type": "code",
   "execution_count": 4,
   "metadata": {},
   "outputs": [
    {
     "name": "stdout",
     "output_type": "stream",
     "text": [
      "Диапазон | Число наблюдений\n",
      "  0 -  2 | 12\n",
      "  2 -  4 | 25\n",
      "  4 -  6 | 77\n",
      "  6 -  8 | 176\n",
      "  8 - 10 | 192\n",
      " 10 - 12 | 178\n",
      " 12 - 14 | 83\n",
      " 14 - 16 | 24\n",
      " 16 - 18 | 13\n"
     ]
    }
   ],
   "source": [
    "print('Диапазон | Число наблюдений')\n",
    "for i in range(9):\n",
    "    print('{:>3} - {:>2}'.format(i * 2, (i + 1) * 2), '|', n_i[i])"
   ]
  },
  {
   "cell_type": "markdown",
   "metadata": {},
   "source": [
    "**Строим гистограмму**"
   ]
  },
  {
   "cell_type": "code",
   "execution_count": 5,
   "metadata": {},
   "outputs": [
    {
     "data": {
      "text/plain": [
       "<AxesSubplot:ylabel='Count'>"
      ]
     },
     "execution_count": 5,
     "metadata": {},
     "output_type": "execute_result"
    },
    {
     "data": {
      "image/png": "[encoded data removed]",
      "text/plain": [
       "<Figure size 432x288 with 1 Axes>"
      ]
     },
     "metadata": {
      "needs_background": "light"
     },
     "output_type": "display_data"
    }
   ],
   "source": [
    "sns.histplot(data, bins=9)"
   ]
  },
  {
   "cell_type": "markdown",
   "metadata": {},
   "source": [
    "**Находим точечные оценки математического ожидания (avg) и дисперсии (std\\*\\*2). Коэффициент $\\frac{n}{n - 1}$ введён, чтобы исправить неточность формулы, используемой библиотекой numpy**"
   ]
  },
  {
   "cell_type": "code",
   "execution_count": 6,
   "metadata": {},
   "outputs": [
    {
     "data": {
      "text/plain": [
       "(9.038461538461538, 9.420855139725488)"
      ]
     },
     "execution_count": 6,
     "metadata": {},
     "output_type": "execute_result"
    }
   ],
   "source": [
    "avg = np.mean(data)\n",
    "std = np.std(data) * (n / (n - 1)) ** 0.5\n",
    "avg, std**2"
   ]
  },
  {
   "cell_type": "markdown",
   "metadata": {},
   "source": [
    "**Строим теоретическую кривую нормального распределения с заданными значениями математического ожидания и дисперсии**"
   ]
  },
  {
   "cell_type": "code",
   "execution_count": 7,
   "metadata": {},
   "outputs": [
    {
     "name": "stderr",
     "output_type": "stream",
     "text": [
      "c:\\Users\\Delta_C\\anaconda3\\lib\\site-packages\\seaborn\\_decorators.py:36: FutureWarning: Pass the following variables as keyword args: x, y. From version 0.12, the only valid positional argument will be `data`, and passing other arguments without an explicit keyword will result in an error or misinterpretation.\n",
      "  warnings.warn(\n"
     ]
    },
    {
     "data": {
      "text/plain": [
       "<AxesSubplot:ylabel='Count'>"
      ]
     },
     "execution_count": 7,
     "metadata": {},
     "output_type": "execute_result"
    },
    {
     "data": {
      "image/png": "[encoded data removed]",
      "text/plain": [
       "<Figure size 432x288 with 1 Axes>"
      ]
     },
     "metadata": {
      "needs_background": "light"
     },
     "output_type": "display_data"
    }
   ],
   "source": [
    "X = np.linspace(-2, 20, 100)\n",
    "norm_dist = scipy.stats.norm.pdf(X, avg, std)\n",
    "\n",
    "sns.histplot(data, bins=9)\n",
    "sns.lineplot(X, norm_dist * 192 * (2 * np.pi) ** 0.5 * std, color='red')"
   ]
  },
  {
   "cell_type": "markdown",
   "metadata": {},
   "source": [
    "**Вычисляем теоретические вероятности. Для проверки выводим сумму вероятностей**"
   ]
  },
  {
   "cell_type": "code",
   "execution_count": 8,
   "metadata": {},
   "outputs": [
    {
     "data": {
      "text/plain": [
       "1.0"
      ]
     },
     "execution_count": 8,
     "metadata": {},
     "output_type": "execute_result"
    }
   ],
   "source": [
    "th_prob = []\n",
    "for i in range(0, 17, 2):\n",
    "    if i == 0:\n",
    "        th_prob.append(scipy.stats.norm.cdf(2, avg, std))\n",
    "    elif i == 16:\n",
    "        th_prob.append(1 - scipy.stats.norm.cdf(16, avg, std))\n",
    "    else:\n",
    "        th_prob.append(scipy.stats.norm.cdf(i + 2, avg, std) - scipy.stats.norm.cdf(i, avg, std))\n",
    "\n",
    "th_prob = np.array(th_prob)\n",
    "np.sum(th_prob)"
   ]
  },
  {
   "cell_type": "markdown",
   "metadata": {},
   "source": [
    "**Вычисляем теоретические частоты и значение $\\chi ^ 2$**"
   ]
  },
  {
   "cell_type": "code",
   "execution_count": 9,
   "metadata": {},
   "outputs": [
    {
     "data": {
      "text/plain": [
       "10.648302358277745"
      ]
     },
     "execution_count": 9,
     "metadata": {},
     "output_type": "execute_result"
    }
   ],
   "source": [
    "th_freq = th_prob * n\n",
    "chi_squared = np.sum((n_i - th_freq) ** 2 / th_freq)\n",
    "\n",
    "chi_squared"
   ]
  },
  {
   "cell_type": "markdown",
   "metadata": {},
   "source": [
    "**Находим значение 1% квантиля распределения $\\chi ^ 2$ с 6-ю степенями свободы и сравниваем полученные числа**"
   ]
  },
  {
   "cell_type": "code",
   "execution_count": 10,
   "metadata": {},
   "outputs": [
    {
     "data": {
      "text/plain": [
       "16.811893829770927"
      ]
     },
     "execution_count": 10,
     "metadata": {},
     "output_type": "execute_result"
    }
   ],
   "source": [
    "th_chi_squared = scipy.stats.chi2.ppf(1 - alpha, 6)\n",
    "th_chi_squared"
   ]
  },
  {
   "cell_type": "code",
   "execution_count": 11,
   "metadata": {},
   "outputs": [
    {
     "data": {
      "text/plain": [
       "True"
      ]
     },
     "execution_count": 11,
     "metadata": {},
     "output_type": "execute_result"
    }
   ],
   "source": [
    "chi_squared < th_chi_squared"
   ]
  },
  {
   "cell_type": "markdown",
   "metadata": {},
   "source": [
    "**Как видим, наблюдаемое значение меньше критического, а значит, нет оснований отвергать гипотезу**"
   ]
  }
 ],
 "metadata": {
  "kernelspec": {
   "display_name": "base",
   "language": "python",
   "name": "python3"
  },
  "language_info": {
   "codemirror_mode": {
    "name": "ipython",
    "version": 3
   },
   "file_extension": ".py",
   "mimetype": "text/x-python",
   "name": "python",
   "nbconvert_exporter": "python",
   "pygments_lexer": "ipython3",
   "version": "3.9.12"
  }
 },
 "nbformat": 4,
 "nbformat_minor": 2
}
