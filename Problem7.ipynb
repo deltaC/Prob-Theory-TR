{
 "cells": [
  {
   "cell_type": "markdown",
   "metadata": {},
   "source": [
    "# Задача 7"
   ]
  },
  {
   "cell_type": "markdown",
   "metadata": {},
   "source": [
    "**Импортируем библиотеки и вводим данные**"
   ]
  },
  {
   "cell_type": "code",
   "execution_count": 1,
   "metadata": {},
   "outputs": [],
   "source": [
    "import numpy as np\n",
    "import scipy.stats"
   ]
  },
  {
   "cell_type": "code",
   "execution_count": 21,
   "metadata": {},
   "outputs": [],
   "source": [
    "sample1 = np.array([2.37, 4.37, 2.34, 1.89, 2.89, 1.96, 2.81, 3.4, 2.64])\n",
    "sample2 = np.array([6.8, 7.83, 7.87, 6.19, 4.94, 6.02, 6.23, 7.55, 7.82])\n",
    "alpha = 0.02"
   ]
  },
  {
   "cell_type": "markdown",
   "metadata": {},
   "source": [
    "**Теперь приступим к решению**\n",
    "Обозначим оценки дисперсии как $s_1^2$ и $s_2^2$ (std1 \\*\\* 2 и std2 \\*\\*). Предположим, что обе генеральные совокупности имеют одинаковые дисперсии $\\sigma^2$. Тогда $\\frac{8s_1^2}{\\sigma^2}$ и $\\frac{8s_2^2}{\\sigma^2}$ распределены по $\\chi^2(8)$. Отсюда следует, что $\\frac{s_1^2}{s_2^2}$ подчиняется распределению Фишера с (8, 8) степенями свободы"
   ]
  },
  {
   "cell_type": "code",
   "execution_count": 14,
   "metadata": {},
   "outputs": [],
   "source": [
    "std1 = np.std(sample1) * (9 / 8) ** 0.5\n",
    "std2 = np.std(sample2) * (9 / 8) ** 0.5"
   ]
  },
  {
   "cell_type": "code",
   "execution_count": 15,
   "metadata": {},
   "outputs": [
    {
     "data": {
      "text/plain": [
       "0.5549346300193883"
      ]
     },
     "execution_count": 15,
     "metadata": {},
     "output_type": "execute_result"
    }
   ],
   "source": [
    "criterion = (std1 / std2) ** 2\n",
    "criterion"
   ]
  },
  {
   "cell_type": "code",
   "execution_count": 22,
   "metadata": {},
   "outputs": [
    {
     "data": {
      "text/plain": [
       "(0.16586855950059068, 6.028870106612573)"
      ]
     },
     "execution_count": 22,
     "metadata": {},
     "output_type": "execute_result"
    }
   ],
   "source": [
    "interval = scipy.stats.f.interval(1 - alpha, 8, 8)\n",
    "interval"
   ]
  },
  {
   "cell_type": "code",
   "execution_count": 23,
   "metadata": {},
   "outputs": [
    {
     "data": {
      "text/plain": [
       "True"
      ]
     },
     "execution_count": 23,
     "metadata": {},
     "output_type": "execute_result"
    }
   ],
   "source": [
    "interval[0] < criterion < interval[1]"
   ]
  },
  {
   "cell_type": "markdown",
   "metadata": {},
   "source": [
    "**Заключение**\n",
    "Значение критерия попадает в область принятия гипотезы, то есть, гипотеза не отвергается"
   ]
  }
 ],
 "metadata": {
  "kernelspec": {
   "display_name": "base",
   "language": "python",
   "name": "python3"
  },
  "language_info": {
   "codemirror_mode": {
    "name": "ipython",
    "version": 3
   },
   "file_extension": ".py",
   "mimetype": "text/x-python",
   "name": "python",
   "nbconvert_exporter": "python",
   "pygments_lexer": "ipython3",
   "version": "3.9.12"
  }
 },
 "nbformat": 4,
 "nbformat_minor": 2
}
