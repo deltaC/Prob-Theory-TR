{
 "cells": [
  {
   "cell_type": "markdown",
   "metadata": {},
   "source": [
    "# Задача 1"
   ]
  },
  {
   "cell_type": "code",
   "execution_count": 1,
   "metadata": {},
   "outputs": [],
   "source": [
    "import numpy as np\n",
    "import scipy.stats"
   ]
  },
  {
   "cell_type": "code",
   "execution_count": 8,
   "metadata": {},
   "outputs": [
    {
     "name": "stdout",
     "output_type": "stream",
     "text": [
      "X |   P\n",
      "---------\n",
      "0 | 0.000\n",
      "1 | 0.013\n",
      "2 | 0.126\n",
      "3 | 0.378\n",
      "4 | 0.378\n",
      "5 | 0.106\n"
     ]
    }
   ],
   "source": [
    "print('X |   P')\n",
    "print('---------')\n",
    "rv = scipy.stats.hypergeom(16, 11, 5)\n",
    "for i in range(6):\n",
    "    print(i, '|', \"%.3f\" % rv.pmf(i))"
   ]
  },
  {
   "cell_type": "code",
   "execution_count": 9,
   "metadata": {},
   "outputs": [
    {
     "name": "stdout",
     "output_type": "stream",
     "text": [
      "MX = 3.4375\n",
      "DX = 0.7877604166666666\n"
     ]
    }
   ],
   "source": [
    "print('MX =', rv.mean())\n",
    "print('DX =', rv.var())"
   ]
  }
 ],
 "metadata": {
  "kernelspec": {
   "display_name": "base",
   "language": "python",
   "name": "python3"
  },
  "language_info": {
   "codemirror_mode": {
    "name": "ipython",
    "version": 3
   },
   "file_extension": ".py",
   "mimetype": "text/x-python",
   "name": "python",
   "nbconvert_exporter": "python",
   "pygments_lexer": "ipython3",
   "version": "3.9.12"
  }
 },
 "nbformat": 4,
 "nbformat_minor": 2
}
